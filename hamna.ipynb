{
 "cells": [
  {
   "cell_type": "code",
   "execution_count": null,
   "id": "1646f51e-1a11-4c5d-87c6-45c762a1f18c",
   "metadata": {},
   "outputs": [],
   "source": []
  }
 ],
 "metadata": {
  "kernelspec": {
   "display_name": "",
   "name": ""
  },
  "language_info": {
   "name": ""
  }
 },
 "nbformat": 4,
 "nbformat_minor": 5
}
